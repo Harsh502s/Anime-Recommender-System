{
 "cells": [
  {
   "cell_type": "code",
   "execution_count": 23,
   "metadata": {},
   "outputs": [],
   "source": [
    "import numpy as np\n",
    "import pandas as pd\n",
    "import re\n",
    "import string\n",
    "from ast import literal_eval as le"
   ]
  },
  {
   "cell_type": "code",
   "execution_count": 24,
   "metadata": {},
   "outputs": [],
   "source": [
    "df = pd.read_csv(\"anime_data.csv\")\n",
    "pd.set_option(\"display.max_columns\", None)"
   ]
  },
  {
   "cell_type": "code",
   "execution_count": 25,
   "metadata": {},
   "outputs": [],
   "source": [
    "df.anime_producer = df.anime_producer.replace(\"['NA']\", df.anime_producer.mode()[0])\n",
    "df.anime_mal_score = pd.to_numeric(df.anime_mal_score, errors=\"coerce\")\n",
    "df.anime_mal_score = df.anime_mal_score.replace(np.nan, df.anime_mal_score.median())"
   ]
  },
  {
   "cell_type": "code",
   "execution_count": 26,
   "metadata": {},
   "outputs": [
    {
     "data": {
      "text/plain": [
       "index                0\n",
       "anime_urls           0\n",
       "anime_poster         0\n",
       "anime_title          0\n",
       "anime_overview       0\n",
       "anime_mal_score      0\n",
       "anime_views          0\n",
       "anime_studio       503\n",
       "anime_producer       0\n",
       "anime_genres         0\n",
       "dtype: int64"
      ]
     },
     "execution_count": 26,
     "metadata": {},
     "output_type": "execute_result"
    }
   ],
   "source": [
    "df.isna().sum()"
   ]
  },
  {
   "cell_type": "code",
   "execution_count": 27,
   "metadata": {},
   "outputs": [],
   "source": [
    "# Dropping the rows with NaN values\n",
    "\n",
    "df.dropna(inplace=True)"
   ]
  },
  {
   "cell_type": "code",
   "execution_count": 28,
   "metadata": {},
   "outputs": [],
   "source": [
    "df.anime_genres = df.anime_genres.apply(le)\n",
    "df.anime_producer = df.anime_producer.apply(le)\n",
    "df.anime_genres = df.anime_genres.apply(lambda x: [i.replace(\" \", \"\") for i in x])\n",
    "df.anime_studio = df.anime_studio.apply(lambda x: x.replace(\" \", \"\"))\n",
    "df.anime_studio = df.anime_studio.apply(lambda x: x.split())"
   ]
  },
  {
   "cell_type": "code",
   "execution_count": 15,
   "metadata": {},
   "outputs": [],
   "source": [
    "# Cleaning the anime_overview column\n",
    "\n",
    "df.anime_overview = df.anime_overview.str.replace(\"\\n\", \"\")\n",
    "df.anime_overview = df.anime_overview.str.replace(\"\\r\", \"\")\n",
    "df.anime_overview = df.anime_overview.str.replace(\"\\t\", \"\")\n",
    "df.anime_overview = df.anime_overview.str.strip()"
   ]
  },
  {
   "cell_type": "code",
   "execution_count": 32,
   "metadata": {},
   "outputs": [],
   "source": [
    "# Dropping the index column and resetting the index to new values\n",
    "df.drop('index', axis=1, inplace=True)\n",
    "df.reset_index(drop=True, inplace=True)\n",
    "df.reset_index(inplace=True)"
   ]
  },
  {
   "cell_type": "code",
   "execution_count": 38,
   "metadata": {},
   "outputs": [],
   "source": [
    "# Changing the column names\n",
    "\n",
    "df.rename(\n",
    "    columns={\n",
    "        \"index\": \"anime_id\",\n",
    "        \"anime_urls\": \"urls\",\n",
    "        \"anime_overview\": \"overview\",\n",
    "        \"anime_genres\": \"genres\",\n",
    "        \"anime_producer\": \"producer\",\n",
    "        \"anime_studio\": \"studio\",\n",
    "        \"anime_mal_score\": \"score\",\n",
    "        \"anime_poster\": \"poster\",\n",
    "        \"anime_title\": \"title\",\n",
    "        \"anime_views\": \"views\",\n",
    "    },\n",
    "    inplace=True,\n",
    ")"
   ]
  },
  {
   "cell_type": "code",
   "execution_count": 39,
   "metadata": {},
   "outputs": [],
   "source": [
    "# Cleaning the title and overview column that will only contain the aplhabetical and numerical values and removing the punctuations using regex\n",
    "\n",
    "df[\"title\"] = df[\"title\"].apply(lambda x: re.sub(\"[^A-Za-z0-9]+\", \" \", x))\n",
    "df[\"overview\"] = df[\"overview\"].apply(lambda x: re.sub(\"[^A-Za-z0-9]+\", \" \", x))"
   ]
  },
  {
   "cell_type": "code",
   "execution_count": 41,
   "metadata": {},
   "outputs": [],
   "source": [
    "df.to_csv(\"anime_data_cleaned.csv\", index=False)"
   ]
  }
 ],
 "metadata": {
  "kernelspec": {
   "display_name": "Scrape",
   "language": "python",
   "name": "python3"
  },
  "language_info": {
   "codemirror_mode": {
    "name": "ipython",
    "version": 3
   },
   "file_extension": ".py",
   "mimetype": "text/x-python",
   "name": "python",
   "nbconvert_exporter": "python",
   "pygments_lexer": "ipython3",
   "version": "3.10.4"
  },
  "orig_nbformat": 4
 },
 "nbformat": 4,
 "nbformat_minor": 2
}
