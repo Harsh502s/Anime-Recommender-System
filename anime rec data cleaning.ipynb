{
 "cells": [
  {
   "cell_type": "code",
   "execution_count": 1,
   "metadata": {},
   "outputs": [],
   "source": [
    "import numpy as np\n",
    "import pandas as pd\n",
    "import re\n",
    "from ast import literal_eval as le\n",
    "import warnings as w\n",
    "w.filterwarnings(\"ignore\")"
   ]
  },
  {
   "cell_type": "code",
   "execution_count": 2,
   "metadata": {},
   "outputs": [],
   "source": [
    "df = pd.read_csv(\"anime_data.csv\")\n",
    "pd.set_option(\"display.max_columns\", None)"
   ]
  },
  {
   "cell_type": "code",
   "execution_count": 3,
   "metadata": {},
   "outputs": [],
   "source": [
    "df.anime_producer = df.anime_producer.replace(\"['NA']\", df.anime_producer.mode()[0])\n",
    "df.anime_mal_score = pd.to_numeric(df.anime_mal_score, errors=\"coerce\")\n",
    "df.anime_mal_score = df.anime_mal_score.replace(np.nan, df.anime_mal_score.median())"
   ]
  },
  {
   "cell_type": "code",
   "execution_count": 4,
   "metadata": {},
   "outputs": [],
   "source": [
    "# Dropping the rows with NaN values\n",
    "\n",
    "df.dropna(inplace=True)"
   ]
  },
  {
   "cell_type": "code",
   "execution_count": 5,
   "metadata": {},
   "outputs": [],
   "source": [
    "df.anime_genres = df.anime_genres.apply(le)\n",
    "df.anime_producer = df.anime_producer.apply(le)\n",
    "df.anime_genres = df.anime_genres.apply(lambda x: [i.replace(\" \", \"\") for i in x])\n",
    "df.anime_studio = df.anime_studio.apply(lambda x: x.replace(\" \", \"\"))\n",
    "df.anime_studio = df.anime_studio.apply(lambda x: x.split())"
   ]
  },
  {
   "cell_type": "code",
   "execution_count": 6,
   "metadata": {},
   "outputs": [
    {
     "data": {
      "text/html": [
       "<div>\n",
       "<style scoped>\n",
       "    .dataframe tbody tr th:only-of-type {\n",
       "        vertical-align: middle;\n",
       "    }\n",
       "\n",
       "    .dataframe tbody tr th {\n",
       "        vertical-align: top;\n",
       "    }\n",
       "\n",
       "    .dataframe thead th {\n",
       "        text-align: right;\n",
       "    }\n",
       "</style>\n",
       "<table border=\"1\" class=\"dataframe\">\n",
       "  <thead>\n",
       "    <tr style=\"text-align: right;\">\n",
       "      <th></th>\n",
       "      <th>index</th>\n",
       "      <th>anime_urls</th>\n",
       "      <th>anime_poster</th>\n",
       "      <th>anime_title</th>\n",
       "      <th>anime_overview</th>\n",
       "      <th>anime_mal_score</th>\n",
       "      <th>anime_views</th>\n",
       "      <th>anime_studio</th>\n",
       "      <th>anime_producer</th>\n",
       "      <th>anime_genres</th>\n",
       "    </tr>\n",
       "  </thead>\n",
       "  <tbody>\n",
       "    <tr>\n",
       "      <th>0</th>\n",
       "      <td>0</td>\n",
       "      <td>https://sanji.to/bungaku-shoujo-kyou-no-oyatsu...</td>\n",
       "      <td>https://img.zorores.com/_r/300x400/100/59/ce/5...</td>\n",
       "      <td>\"Bungaku Shoujo\" Kyou no Oyatsu: Hatsukoi</td>\n",
       "      <td>\\n                                        Shor...</td>\n",
       "      <td>6.92</td>\n",
       "      <td>757</td>\n",
       "      <td>[ProductionI.G]</td>\n",
       "      <td>[Lantis, Pony Canyon, Enterbrain, Kadokawa Con...</td>\n",
       "      <td>[Comedy, Fantasy, School]</td>\n",
       "    </tr>\n",
       "    <tr>\n",
       "      <th>1</th>\n",
       "      <td>1</td>\n",
       "      <td>https://sanji.to/bungaku-shoujo-memoire-2108</td>\n",
       "      <td>https://img.zorores.com/_r/300x400/100/ec/bd/e...</td>\n",
       "      <td>\"Bungaku Shoujo\" Memoire</td>\n",
       "      <td>\\n                                        Epis...</td>\n",
       "      <td>7.35</td>\n",
       "      <td>1,284</td>\n",
       "      <td>[ProductionI.G]</td>\n",
       "      <td>[Lantis, Pony Canyon, Enterbrain, Kadokawa Con...</td>\n",
       "      <td>[Drama, Romance, School]</td>\n",
       "    </tr>\n",
       "    <tr>\n",
       "      <th>2</th>\n",
       "      <td>2</td>\n",
       "      <td>https://sanji.to/bungaku-shoujo-movie-1802</td>\n",
       "      <td>https://img.zorores.com/_r/300x400/100/5c/85/5...</td>\n",
       "      <td>\"Bungaku Shoujo\" Movie</td>\n",
       "      <td>\\n                                        The ...</td>\n",
       "      <td>7.43</td>\n",
       "      <td>1,726</td>\n",
       "      <td>[ProductionI.G]</td>\n",
       "      <td>[Lantis, Pony Canyon, Enterbrain, Kadokawa Con...</td>\n",
       "      <td>[Mystery, Drama, Romance, School]</td>\n",
       "    </tr>\n",
       "    <tr>\n",
       "      <th>3</th>\n",
       "      <td>3</td>\n",
       "      <td>https://sanji.to/my-star-18330</td>\n",
       "      <td>https://img.zorores.com/_r/300x400/100/99/59/9...</td>\n",
       "      <td>My Star</td>\n",
       "      <td>\\n                                        Sixt...</td>\n",
       "      <td>9.33</td>\n",
       "      <td>4,450,861</td>\n",
       "      <td>[DogaKobo]</td>\n",
       "      <td>[Kadokawa, Shueisha]</td>\n",
       "      <td>[Drama, Music, Supernatural, Seinen]</td>\n",
       "    </tr>\n",
       "    <tr>\n",
       "      <th>4</th>\n",
       "      <td>4</td>\n",
       "      <td>https://sanji.to/hackgu-returner-4688</td>\n",
       "      <td>https://img.zorores.com/_r/300x400/100/e1/ff/e...</td>\n",
       "      <td>.hack//G.U. Returner</td>\n",
       "      <td>\\n                                        The ...</td>\n",
       "      <td>6.73</td>\n",
       "      <td>270</td>\n",
       "      <td>[BeeTrain]</td>\n",
       "      <td>[Bandai Visual, CyberConnect2, Bee Train]</td>\n",
       "      <td>[Adventure, Drama, Fantasy, Game, Magic, Sci-Fi]</td>\n",
       "    </tr>\n",
       "  </tbody>\n",
       "</table>\n",
       "</div>"
      ],
      "text/plain": [
       "   index                                         anime_urls   \n",
       "0      0  https://sanji.to/bungaku-shoujo-kyou-no-oyatsu...  \\\n",
       "1      1       https://sanji.to/bungaku-shoujo-memoire-2108   \n",
       "2      2         https://sanji.to/bungaku-shoujo-movie-1802   \n",
       "3      3                     https://sanji.to/my-star-18330   \n",
       "4      4              https://sanji.to/hackgu-returner-4688   \n",
       "\n",
       "                                        anime_poster   \n",
       "0  https://img.zorores.com/_r/300x400/100/59/ce/5...  \\\n",
       "1  https://img.zorores.com/_r/300x400/100/ec/bd/e...   \n",
       "2  https://img.zorores.com/_r/300x400/100/5c/85/5...   \n",
       "3  https://img.zorores.com/_r/300x400/100/99/59/9...   \n",
       "4  https://img.zorores.com/_r/300x400/100/e1/ff/e...   \n",
       "\n",
       "                                 anime_title   \n",
       "0  \"Bungaku Shoujo\" Kyou no Oyatsu: Hatsukoi  \\\n",
       "1                   \"Bungaku Shoujo\" Memoire   \n",
       "2                     \"Bungaku Shoujo\" Movie   \n",
       "3                                    My Star   \n",
       "4                       .hack//G.U. Returner   \n",
       "\n",
       "                                      anime_overview  anime_mal_score   \n",
       "0  \\n                                        Shor...             6.92  \\\n",
       "1  \\n                                        Epis...             7.35   \n",
       "2  \\n                                        The ...             7.43   \n",
       "3  \\n                                        Sixt...             9.33   \n",
       "4  \\n                                        The ...             6.73   \n",
       "\n",
       "  anime_views     anime_studio   \n",
       "0         757  [ProductionI.G]  \\\n",
       "1       1,284  [ProductionI.G]   \n",
       "2       1,726  [ProductionI.G]   \n",
       "3   4,450,861       [DogaKobo]   \n",
       "4         270       [BeeTrain]   \n",
       "\n",
       "                                      anime_producer   \n",
       "0  [Lantis, Pony Canyon, Enterbrain, Kadokawa Con...  \\\n",
       "1  [Lantis, Pony Canyon, Enterbrain, Kadokawa Con...   \n",
       "2  [Lantis, Pony Canyon, Enterbrain, Kadokawa Con...   \n",
       "3                               [Kadokawa, Shueisha]   \n",
       "4          [Bandai Visual, CyberConnect2, Bee Train]   \n",
       "\n",
       "                                       anime_genres  \n",
       "0                         [Comedy, Fantasy, School]  \n",
       "1                          [Drama, Romance, School]  \n",
       "2                 [Mystery, Drama, Romance, School]  \n",
       "3              [Drama, Music, Supernatural, Seinen]  \n",
       "4  [Adventure, Drama, Fantasy, Game, Magic, Sci-Fi]  "
      ]
     },
     "execution_count": 6,
     "metadata": {},
     "output_type": "execute_result"
    }
   ],
   "source": [
    "df.head()"
   ]
  },
  {
   "cell_type": "code",
   "execution_count": 7,
   "metadata": {},
   "outputs": [
    {
     "data": {
      "text/html": [
       "<div>\n",
       "<style scoped>\n",
       "    .dataframe tbody tr th:only-of-type {\n",
       "        vertical-align: middle;\n",
       "    }\n",
       "\n",
       "    .dataframe tbody tr th {\n",
       "        vertical-align: top;\n",
       "    }\n",
       "\n",
       "    .dataframe thead th {\n",
       "        text-align: right;\n",
       "    }\n",
       "</style>\n",
       "<table border=\"1\" class=\"dataframe\">\n",
       "  <thead>\n",
       "    <tr style=\"text-align: right;\">\n",
       "      <th></th>\n",
       "      <th>anime_overview</th>\n",
       "      <th>word_count</th>\n",
       "    </tr>\n",
       "  </thead>\n",
       "  <tbody>\n",
       "    <tr>\n",
       "      <th>0</th>\n",
       "      <td>\\n                                        Shor...</td>\n",
       "      <td>90</td>\n",
       "    </tr>\n",
       "    <tr>\n",
       "      <th>1</th>\n",
       "      <td>\\n                                        Epis...</td>\n",
       "      <td>88</td>\n",
       "    </tr>\n",
       "    <tr>\n",
       "      <th>2</th>\n",
       "      <td>\\n                                        The ...</td>\n",
       "      <td>187</td>\n",
       "    </tr>\n",
       "    <tr>\n",
       "      <th>3</th>\n",
       "      <td>\\n                                        Sixt...</td>\n",
       "      <td>224</td>\n",
       "    </tr>\n",
       "    <tr>\n",
       "      <th>4</th>\n",
       "      <td>\\n                                        The ...</td>\n",
       "      <td>146</td>\n",
       "    </tr>\n",
       "  </tbody>\n",
       "</table>\n",
       "</div>"
      ],
      "text/plain": [
       "                                      anime_overview  word_count\n",
       "0  \\n                                        Shor...          90\n",
       "1  \\n                                        Epis...          88\n",
       "2  \\n                                        The ...         187\n",
       "3  \\n                                        Sixt...         224\n",
       "4  \\n                                        The ...         146"
      ]
     },
     "execution_count": 7,
     "metadata": {},
     "output_type": "execute_result"
    }
   ],
   "source": [
    "#Fetch wordcount for each abstract\n",
    "\n",
    "df['word_count'] = df['anime_overview'].apply(lambda x: len(str(x).split(\" \")))\n",
    "df[['anime_overview','word_count']].head()"
   ]
  },
  {
   "cell_type": "code",
   "execution_count": 8,
   "metadata": {},
   "outputs": [
    {
     "data": {
      "text/plain": [
       "count    5447.000000\n",
       "mean      173.550395\n",
       "std        65.855962\n",
       "min         1.000000\n",
       "25%       125.000000\n",
       "50%       172.000000\n",
       "75%       225.000000\n",
       "max       533.000000\n",
       "Name: word_count, dtype: float64"
      ]
     },
     "execution_count": 8,
     "metadata": {},
     "output_type": "execute_result"
    }
   ],
   "source": [
    "##Descriptive statistics of word counts\n",
    "\n",
    "df.word_count.describe()"
   ]
  },
  {
   "cell_type": "code",
   "execution_count": 9,
   "metadata": {},
   "outputs": [
    {
     "data": {
      "text/plain": [
       "the      33572\n",
       "to       18293\n",
       "of       15981\n",
       "a        15686\n",
       "and      15545\n",
       "is        8026\n",
       "in        7833\n",
       "his       6511\n",
       "with      5296\n",
       "by        4928\n",
       "her       4885\n",
       "that      4345\n",
       "as        4338\n",
       "their     3934\n",
       "he        3755\n",
       "for       3680\n",
       "on        2885\n",
       "an        2879\n",
       "who       2817\n",
       "from      2724\n",
       "Name: count, dtype: int64"
      ]
     },
     "execution_count": 9,
     "metadata": {},
     "output_type": "execute_result"
    }
   ],
   "source": [
    "#Identify common words\n",
    "freq = pd.Series(' '.join(df['anime_overview']).split()).value_counts()[:20]\n",
    "freq"
   ]
  },
  {
   "cell_type": "code",
   "execution_count": 10,
   "metadata": {},
   "outputs": [
    {
     "data": {
      "text/plain": [
       "frees          1\n",
       "jungle's       1\n",
       "Jimmy,         1\n",
       "Cousin         1\n",
       "Laura,         1\n",
       "introduced.    1\n",
       "\"Quirk         1\n",
       "Montgomery.    1\n",
       "Maud           1\n",
       "Wataru.        1\n",
       "Sophia,        1\n",
       "Francisco,     1\n",
       "Doomsday       1\n",
       "enhancement    1\n",
       "underwent      1\n",
       "Theory.\"       1\n",
       "Quirk          1\n",
       "genes,         1\n",
       "Imp            1\n",
       "Kakana,        1\n",
       "Name: count, dtype: int64"
      ]
     },
     "execution_count": 10,
     "metadata": {},
     "output_type": "execute_result"
    }
   ],
   "source": [
    "# Identify uncommon words\n",
    "freq1 = pd.Series(\" \".join(df[\"anime_overview\"]).split()).value_counts()[-20:]\n",
    "freq1"
   ]
  },
  {
   "attachments": {},
   "cell_type": "markdown",
   "metadata": {},
   "source": [
    "# Text Preprocessing"
   ]
  },
  {
   "cell_type": "code",
   "execution_count": 11,
   "metadata": {},
   "outputs": [],
   "source": [
    "# Removing the last part from the overview which is [Written by MAL Rewrite] \n",
    "\n",
    "df['anime_overview'] =  df['anime_overview'].apply(lambda x: x.split(r\"[Written by MAL Rewrite]\")[0])\n",
    "\n",
    "# Taking Only Words\n",
    "df['anime_overview'] = df['anime_overview'].apply(lambda x: \" \".join(re.findall(r'[a-zA-Z]+', x)).lower())\n",
    "\n",
    "# Removing all s and t from the overview which are not in the form of words\n",
    "\n",
    "df['anime_overview'] = df['anime_overview'].apply(lambda x: re.sub(r'\\bs\\b|\\bt\\b','',x))\n"
   ]
  },
  {
   "cell_type": "code",
   "execution_count": 12,
   "metadata": {},
   "outputs": [],
   "source": [
    "# Dropping the index column and resetting the index to new values\n",
    "df.drop('index', axis=1, inplace=True)\n",
    "df.reset_index(drop=True, inplace=True)\n",
    "df.reset_index(inplace=True)"
   ]
  },
  {
   "cell_type": "code",
   "execution_count": 13,
   "metadata": {},
   "outputs": [],
   "source": [
    "# Changing the column names\n",
    "\n",
    "df.rename(\n",
    "    columns={\n",
    "        \"index\": \"anime_id\",\n",
    "        \"anime_urls\": \"urls\",\n",
    "        \"anime_overview\": \"overview\",\n",
    "        \"anime_genres\": \"genres\",\n",
    "        \"anime_producer\": \"producer\",\n",
    "        \"anime_studio\": \"studio\",\n",
    "        \"anime_mal_score\": \"score\",\n",
    "        \"anime_poster\": \"poster\",\n",
    "        \"anime_title\": \"title\",\n",
    "        \"anime_views\": \"views\",\n",
    "    },\n",
    "    inplace=True,\n",
    ")"
   ]
  },
  {
   "cell_type": "code",
   "execution_count": 14,
   "metadata": {},
   "outputs": [],
   "source": [
    "df.to_csv(\"anime_data_cleaned.csv\", index=False)"
   ]
  }
 ],
 "metadata": {
  "kernelspec": {
   "display_name": "Scrape",
   "language": "python",
   "name": "python3"
  },
  "language_info": {
   "codemirror_mode": {
    "name": "ipython",
    "version": 3
   },
   "file_extension": ".py",
   "mimetype": "text/x-python",
   "name": "python",
   "nbconvert_exporter": "python",
   "pygments_lexer": "ipython3",
   "version": "3.10.4"
  },
  "orig_nbformat": 4
 },
 "nbformat": 4,
 "nbformat_minor": 2
}
