{
 "cells": [
  {
   "cell_type": "code",
   "execution_count": 9,
   "metadata": {},
   "outputs": [],
   "source": [
    "import pandas as pd\n",
    "import numpy as np\n",
    "from ast import literal_eval as le\n",
    "from sklearn.feature_extraction.text import TfidfVectorizer\n",
    "import nltk\n",
    "from nltk.stem import WordNetLemmatizer, SnowballStemmer\n",
    "import spacy\n",
    "nlp = spacy.load('en_core_web_lg')\n",
    "from sklearn.metrics.pairwise import cosine_similarity\n",
    "import pickle\n",
    "\n",
    "import warnings as w\n",
    "w.filterwarnings('ignore')"
   ]
  },
  {
   "cell_type": "code",
   "execution_count": 3,
   "metadata": {},
   "outputs": [
    {
     "data": {
      "text/html": [
       "<div>\n",
       "<style scoped>\n",
       "    .dataframe tbody tr th:only-of-type {\n",
       "        vertical-align: middle;\n",
       "    }\n",
       "\n",
       "    .dataframe tbody tr th {\n",
       "        vertical-align: top;\n",
       "    }\n",
       "\n",
       "    .dataframe thead th {\n",
       "        text-align: right;\n",
       "    }\n",
       "</style>\n",
       "<table border=\"1\" class=\"dataframe\">\n",
       "  <thead>\n",
       "    <tr style=\"text-align: right;\">\n",
       "      <th></th>\n",
       "      <th>anime_id</th>\n",
       "      <th>urls</th>\n",
       "      <th>poster</th>\n",
       "      <th>title</th>\n",
       "      <th>overview</th>\n",
       "      <th>score</th>\n",
       "      <th>studio</th>\n",
       "      <th>producer</th>\n",
       "      <th>genres</th>\n",
       "      <th>word_count</th>\n",
       "    </tr>\n",
       "  </thead>\n",
       "  <tbody>\n",
       "    <tr>\n",
       "      <th>0</th>\n",
       "      <td>0</td>\n",
       "      <td>https://aniwatch.to/bungaku-shoujo-kyou-no-oya...</td>\n",
       "      <td>https://img.flawlessfiles.com/_r/300x400/100/5...</td>\n",
       "      <td>\"Bungaku Shoujo\" Kyou no Oyatsu: Hatsukoi</td>\n",
       "      <td>short episode bundled with the limited edition...</td>\n",
       "      <td>6.92</td>\n",
       "      <td>['ProductionI.G']</td>\n",
       "      <td>['Lantis', 'Pony Canyon', 'Enterbrain', 'Kadok...</td>\n",
       "      <td>['Comedy', 'Fantasy', 'School']</td>\n",
       "      <td>90</td>\n",
       "    </tr>\n",
       "    <tr>\n",
       "      <th>1</th>\n",
       "      <td>1</td>\n",
       "      <td>https://aniwatch.to/bungaku-shoujo-memoire-2108</td>\n",
       "      <td>https://img.flawlessfiles.com/_r/300x400/100/e...</td>\n",
       "      <td>\"Bungaku Shoujo\" Memoire</td>\n",
       "      <td>episodes which depict the background stories o...</td>\n",
       "      <td>7.35</td>\n",
       "      <td>['ProductionI.G']</td>\n",
       "      <td>['Lantis', 'Pony Canyon', 'Enterbrain', 'Kadok...</td>\n",
       "      <td>['Drama', 'Romance', 'School']</td>\n",
       "      <td>88</td>\n",
       "    </tr>\n",
       "    <tr>\n",
       "      <th>2</th>\n",
       "      <td>2</td>\n",
       "      <td>https://aniwatch.to/bungaku-shoujo-movie-1802</td>\n",
       "      <td>https://img.flawlessfiles.com/_r/300x400/100/5...</td>\n",
       "      <td>\"Bungaku Shoujo\" Movie</td>\n",
       "      <td>the protagonist of the story konoha inoue is a...</td>\n",
       "      <td>7.43</td>\n",
       "      <td>['ProductionI.G']</td>\n",
       "      <td>['Lantis', 'Pony Canyon', 'Enterbrain', 'Kadok...</td>\n",
       "      <td>['Mystery', 'Drama', 'Romance', 'School']</td>\n",
       "      <td>187</td>\n",
       "    </tr>\n",
       "    <tr>\n",
       "      <th>3</th>\n",
       "      <td>3</td>\n",
       "      <td>https://aniwatch.to/my-star-18330</td>\n",
       "      <td>https://img.flawlessfiles.com/_r/300x400/100/9...</td>\n",
       "      <td>My Star</td>\n",
       "      <td>in the entertainment world celebrities often s...</td>\n",
       "      <td>9.33</td>\n",
       "      <td>['DogaKobo']</td>\n",
       "      <td>['Kadokawa', 'Shueisha']</td>\n",
       "      <td>['Drama', 'Music', 'Supernatural', 'Seinen']</td>\n",
       "      <td>218</td>\n",
       "    </tr>\n",
       "    <tr>\n",
       "      <th>4</th>\n",
       "      <td>4</td>\n",
       "      <td>https://aniwatch.to/hackgu-returner-4688</td>\n",
       "      <td>https://img.flawlessfiles.com/_r/300x400/100/e...</td>\n",
       "      <td>.hack//G.U. Returner</td>\n",
       "      <td>the characters from previous hack g u games an...</td>\n",
       "      <td>6.73</td>\n",
       "      <td>['BeeTrain']</td>\n",
       "      <td>['Bandai Visual', 'CyberConnect2', 'Bee Train']</td>\n",
       "      <td>['Adventure', 'Drama', 'Fantasy', 'Game', 'Mag...</td>\n",
       "      <td>146</td>\n",
       "    </tr>\n",
       "  </tbody>\n",
       "</table>\n",
       "</div>"
      ],
      "text/plain": [
       "   anime_id                                               urls   \n",
       "0         0  https://aniwatch.to/bungaku-shoujo-kyou-no-oya...  \\\n",
       "1         1    https://aniwatch.to/bungaku-shoujo-memoire-2108   \n",
       "2         2      https://aniwatch.to/bungaku-shoujo-movie-1802   \n",
       "3         3                  https://aniwatch.to/my-star-18330   \n",
       "4         4           https://aniwatch.to/hackgu-returner-4688   \n",
       "\n",
       "                                              poster   \n",
       "0  https://img.flawlessfiles.com/_r/300x400/100/5...  \\\n",
       "1  https://img.flawlessfiles.com/_r/300x400/100/e...   \n",
       "2  https://img.flawlessfiles.com/_r/300x400/100/5...   \n",
       "3  https://img.flawlessfiles.com/_r/300x400/100/9...   \n",
       "4  https://img.flawlessfiles.com/_r/300x400/100/e...   \n",
       "\n",
       "                                       title   \n",
       "0  \"Bungaku Shoujo\" Kyou no Oyatsu: Hatsukoi  \\\n",
       "1                   \"Bungaku Shoujo\" Memoire   \n",
       "2                     \"Bungaku Shoujo\" Movie   \n",
       "3                                    My Star   \n",
       "4                       .hack//G.U. Returner   \n",
       "\n",
       "                                            overview  score   \n",
       "0  short episode bundled with the limited edition...   6.92  \\\n",
       "1  episodes which depict the background stories o...   7.35   \n",
       "2  the protagonist of the story konoha inoue is a...   7.43   \n",
       "3  in the entertainment world celebrities often s...   9.33   \n",
       "4  the characters from previous hack g u games an...   6.73   \n",
       "\n",
       "              studio                                           producer   \n",
       "0  ['ProductionI.G']  ['Lantis', 'Pony Canyon', 'Enterbrain', 'Kadok...  \\\n",
       "1  ['ProductionI.G']  ['Lantis', 'Pony Canyon', 'Enterbrain', 'Kadok...   \n",
       "2  ['ProductionI.G']  ['Lantis', 'Pony Canyon', 'Enterbrain', 'Kadok...   \n",
       "3       ['DogaKobo']                           ['Kadokawa', 'Shueisha']   \n",
       "4       ['BeeTrain']    ['Bandai Visual', 'CyberConnect2', 'Bee Train']   \n",
       "\n",
       "                                              genres  word_count  \n",
       "0                    ['Comedy', 'Fantasy', 'School']          90  \n",
       "1                     ['Drama', 'Romance', 'School']          88  \n",
       "2          ['Mystery', 'Drama', 'Romance', 'School']         187  \n",
       "3       ['Drama', 'Music', 'Supernatural', 'Seinen']         218  \n",
       "4  ['Adventure', 'Drama', 'Fantasy', 'Game', 'Mag...         146  "
      ]
     },
     "execution_count": 3,
     "metadata": {},
     "output_type": "execute_result"
    }
   ],
   "source": [
    "df = pd.read_csv('anime_data_cleaned.csv')\n",
    "df.head()"
   ]
  },
  {
   "cell_type": "code",
   "execution_count": 4,
   "metadata": {},
   "outputs": [],
   "source": [
    "# Converting studio adn generes to list\n",
    "df['genres'] = df['genres'].apply(le)\n",
    "df['studio'] = df['studio'].apply(le)\n",
    "df.overview = df.overview.astype(str)\n",
    "df.overview = df.overview.apply(lambda x: x.split())"
   ]
  },
  {
   "cell_type": "code",
   "execution_count": 5,
   "metadata": {},
   "outputs": [],
   "source": [
    "# Making tags as a combination of overview, genres and studio\n",
    "\n",
    "df['tags'] = df['overview'] + df['genres'] + df['studio']"
   ]
  },
  {
   "cell_type": "code",
   "execution_count": 6,
   "metadata": {},
   "outputs": [],
   "source": [
    "new_df = df[['anime_id','title','tags']]\n",
    "new_df['tags'] = new_df['tags'].apply(lambda x:[i.lower() for i in x])\n",
    "new_df['tags'] = new_df['tags'].apply(lambda x: ' '.join(x))"
   ]
  },
  {
   "cell_type": "code",
   "execution_count": 7,
   "metadata": {},
   "outputs": [],
   "source": [
    "new_df.to_csv('anime_rec.csv', index=False)"
   ]
  },
  {
   "cell_type": "code",
   "execution_count": 8,
   "metadata": {},
   "outputs": [
    {
     "data": {
      "text/html": [
       "<div>\n",
       "<style scoped>\n",
       "    .dataframe tbody tr th:only-of-type {\n",
       "        vertical-align: middle;\n",
       "    }\n",
       "\n",
       "    .dataframe tbody tr th {\n",
       "        vertical-align: top;\n",
       "    }\n",
       "\n",
       "    .dataframe thead th {\n",
       "        text-align: right;\n",
       "    }\n",
       "</style>\n",
       "<table border=\"1\" class=\"dataframe\">\n",
       "  <thead>\n",
       "    <tr style=\"text-align: right;\">\n",
       "      <th></th>\n",
       "      <th>anime_id</th>\n",
       "      <th>title</th>\n",
       "      <th>tags</th>\n",
       "    </tr>\n",
       "  </thead>\n",
       "  <tbody>\n",
       "    <tr>\n",
       "      <th>0</th>\n",
       "      <td>0</td>\n",
       "      <td>\"Bungaku Shoujo\" Kyou no Oyatsu: Hatsukoi</td>\n",
       "      <td>short episode bundled with the limited edition...</td>\n",
       "    </tr>\n",
       "    <tr>\n",
       "      <th>1</th>\n",
       "      <td>1</td>\n",
       "      <td>\"Bungaku Shoujo\" Memoire</td>\n",
       "      <td>episodes which depict the background stories o...</td>\n",
       "    </tr>\n",
       "    <tr>\n",
       "      <th>2</th>\n",
       "      <td>2</td>\n",
       "      <td>\"Bungaku Shoujo\" Movie</td>\n",
       "      <td>the protagonist of the story konoha inoue is a...</td>\n",
       "    </tr>\n",
       "    <tr>\n",
       "      <th>3</th>\n",
       "      <td>3</td>\n",
       "      <td>My Star</td>\n",
       "      <td>in the entertainment world celebrities often s...</td>\n",
       "    </tr>\n",
       "    <tr>\n",
       "      <th>4</th>\n",
       "      <td>4</td>\n",
       "      <td>.hack//G.U. Returner</td>\n",
       "      <td>the characters from previous hack g u games an...</td>\n",
       "    </tr>\n",
       "  </tbody>\n",
       "</table>\n",
       "</div>"
      ],
      "text/plain": [
       "   anime_id                                      title   \n",
       "0         0  \"Bungaku Shoujo\" Kyou no Oyatsu: Hatsukoi  \\\n",
       "1         1                   \"Bungaku Shoujo\" Memoire   \n",
       "2         2                     \"Bungaku Shoujo\" Movie   \n",
       "3         3                                    My Star   \n",
       "4         4                       .hack//G.U. Returner   \n",
       "\n",
       "                                                tags  \n",
       "0  short episode bundled with the limited edition...  \n",
       "1  episodes which depict the background stories o...  \n",
       "2  the protagonist of the story konoha inoue is a...  \n",
       "3  in the entertainment world celebrities often s...  \n",
       "4  the characters from previous hack g u games an...  "
      ]
     },
     "execution_count": 8,
     "metadata": {},
     "output_type": "execute_result"
    }
   ],
   "source": [
    "new_df.head()"
   ]
  },
  {
   "cell_type": "code",
   "execution_count": 14,
   "metadata": {},
   "outputs": [],
   "source": [
    "# Stemming the tags\n",
    "sw = nlp.Defaults.stop_words\n",
    "\n",
    "def stemmer(text):\n",
    "    doc = text.split()\n",
    "    doc = [i for i in doc if i not in sw]\n",
    "    doc = [SnowballStemmer(language='english').stem(i) for i in doc]    \n",
    "    return ' '.join(doc)"
   ]
  },
  {
   "cell_type": "code",
   "execution_count": 15,
   "metadata": {},
   "outputs": [],
   "source": [
    "new_df['tags'] = new_df['tags'].apply(stemmer)"
   ]
  },
  {
   "cell_type": "code",
   "execution_count": 16,
   "metadata": {},
   "outputs": [
    {
     "data": {
      "text/html": [
       "<div>\n",
       "<style scoped>\n",
       "    .dataframe tbody tr th:only-of-type {\n",
       "        vertical-align: middle;\n",
       "    }\n",
       "\n",
       "    .dataframe tbody tr th {\n",
       "        vertical-align: top;\n",
       "    }\n",
       "\n",
       "    .dataframe thead th {\n",
       "        text-align: right;\n",
       "    }\n",
       "</style>\n",
       "<table border=\"1\" class=\"dataframe\">\n",
       "  <thead>\n",
       "    <tr style=\"text-align: right;\">\n",
       "      <th></th>\n",
       "      <th>anime_id</th>\n",
       "      <th>title</th>\n",
       "      <th>tags</th>\n",
       "    </tr>\n",
       "  </thead>\n",
       "  <tbody>\n",
       "    <tr>\n",
       "      <th>0</th>\n",
       "      <td>0</td>\n",
       "      <td>\"Bungaku Shoujo\" Kyou no Oyatsu: Hatsukoi</td>\n",
       "      <td>short episod bundl limit edit releas bungaku s...</td>\n",
       "    </tr>\n",
       "    <tr>\n",
       "      <th>1</th>\n",
       "      <td>1</td>\n",
       "      <td>\"Bungaku Shoujo\" Memoire</td>\n",
       "      <td>episod depict background stori bungaku shoujo ...</td>\n",
       "    </tr>\n",
       "    <tr>\n",
       "      <th>2</th>\n",
       "      <td>2</td>\n",
       "      <td>\"Bungaku Shoujo\" Movie</td>\n",
       "      <td>protagonist stori konoha inou seem normal seni...</td>\n",
       "    </tr>\n",
       "    <tr>\n",
       "      <th>3</th>\n",
       "      <td>3</td>\n",
       "      <td>My Star</td>\n",
       "      <td>entertain world celebr exagger version public ...</td>\n",
       "    </tr>\n",
       "    <tr>\n",
       "      <th>4</th>\n",
       "      <td>4</td>\n",
       "      <td>.hack//G.U. Returner</td>\n",
       "      <td>charact previous hack g u game hack root recei...</td>\n",
       "    </tr>\n",
       "  </tbody>\n",
       "</table>\n",
       "</div>"
      ],
      "text/plain": [
       "   anime_id                                      title   \n",
       "0         0  \"Bungaku Shoujo\" Kyou no Oyatsu: Hatsukoi  \\\n",
       "1         1                   \"Bungaku Shoujo\" Memoire   \n",
       "2         2                     \"Bungaku Shoujo\" Movie   \n",
       "3         3                                    My Star   \n",
       "4         4                       .hack//G.U. Returner   \n",
       "\n",
       "                                                tags  \n",
       "0  short episod bundl limit edit releas bungaku s...  \n",
       "1  episod depict background stori bungaku shoujo ...  \n",
       "2  protagonist stori konoha inou seem normal seni...  \n",
       "3  entertain world celebr exagger version public ...  \n",
       "4  charact previous hack g u game hack root recei...  "
      ]
     },
     "execution_count": 16,
     "metadata": {},
     "output_type": "execute_result"
    }
   ],
   "source": [
    "new_df.head()"
   ]
  },
  {
   "cell_type": "code",
   "execution_count": 17,
   "metadata": {},
   "outputs": [
    {
     "name": "stdout",
     "output_type": "stream",
     "text": [
      "(5578, 10000)\n"
     ]
    }
   ],
   "source": [
    "# CountVectorizer to convert tags into matrix\n",
    "\n",
    "vectorizer = TfidfVectorizer(max_features=10000,ngram_range=(1,3),)\n",
    "vector = vectorizer.fit_transform(new_df['tags']).toarray()\n",
    "print(vector.shape)"
   ]
  },
  {
   "cell_type": "code",
   "execution_count": 18,
   "metadata": {},
   "outputs": [
    {
     "data": {
      "text/plain": [
       "array([1.        , 0.1397442 , 0.03061966, ..., 0.00205087, 0.01379438,\n",
       "       0.04945737])"
      ]
     },
     "execution_count": 18,
     "metadata": {},
     "output_type": "execute_result"
    }
   ],
   "source": [
    "# Cosine similarity\n",
    "\n",
    "similarity = cosine_similarity(vector)\n",
    "similarity[0]"
   ]
  },
  {
   "cell_type": "code",
   "execution_count": 19,
   "metadata": {},
   "outputs": [
    {
     "name": "stdout",
     "output_type": "stream",
     "text": [
      "Naruto: Shippuden\n",
      "Naruto: Shippuuden Movie 4 - The Lost Tower\n",
      "Boruto: Naruto Next Generations\n",
      "Naruto: Shippuuden Movie 6: Road to Ninja\n",
      "Naruto Shippuuden Movie 3: Inheritors of Will of Fire\n",
      "Boruto: Naruto the Movie\n",
      "Naruto: Shippuuden Movie 5 - Blood Prison\n",
      "Naruto OVA2: The Lost Story - Mission: Protect the Waterfall Village\n",
      "Naruto: Shippuden the Movie 2 -Bonds-\n",
      "Boruto: Naruto the Movie - The Day Naruto Became the Hokage\n"
     ]
    }
   ],
   "source": [
    "def recommend(anime):\n",
    "    index = new_df[new_df['title'] == anime].index[0]\n",
    "    distances = sorted(list(enumerate(similarity[index])), reverse=True, key=lambda x: x[1])[1:11]\n",
    "    for i in distances:\n",
    "        print(new_df.iloc[i[0]].title)\n",
    "        pass\n",
    "    \n",
    "recommend('Naruto')"
   ]
  },
  {
   "cell_type": "code",
   "execution_count": 20,
   "metadata": {},
   "outputs": [],
   "source": [
    "# Saving the similarity matrix as pickle file\n",
    "pickle.dump(similarity, open(r'D:\\Github\\Anime-Recommender\\similarity_matrix.pkl','wb'))"
   ]
  }
 ],
 "metadata": {
  "kernelspec": {
   "display_name": "Scrape",
   "language": "python",
   "name": "python3"
  },
  "language_info": {
   "codemirror_mode": {
    "name": "ipython",
    "version": 3
   },
   "file_extension": ".py",
   "mimetype": "text/x-python",
   "name": "python",
   "nbconvert_exporter": "python",
   "pygments_lexer": "ipython3",
   "version": "3.10.4"
  },
  "orig_nbformat": 4
 },
 "nbformat": 4,
 "nbformat_minor": 2
}
