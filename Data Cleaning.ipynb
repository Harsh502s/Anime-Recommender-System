{
 "cells": [
  {
   "cell_type": "code",
   "execution_count": 1,
   "metadata": {},
   "outputs": [],
   "source": [
    "import numpy as np\n",
    "import pandas as pd\n",
    "import re\n",
    "from nltk.corpus import stopwords\n",
    "import spacy\n",
    "import pickle\n",
    "\n",
    "nlp = spacy.load(\"en_core_web_sm\")\n",
    "from ast import literal_eval as le\n",
    "from sklearn.feature_extraction.text import TfidfVectorizer\n",
    "from gensim.models import Word2Vec\n",
    "from sklearn.metrics.pairwise import cosine_similarity\n",
    "import warnings as w\n",
    "\n",
    "w.filterwarnings(\"ignore\")\n",
    "\n",
    "\n",
    "stopwords_nltk = stopwords.words(\"english\")\n",
    "stopwords_spacy = spacy.lang.en.stop_words.STOP_WORDS\n",
    "stopwords = set(stopwords_nltk + list(stopwords_spacy))"
   ]
  },
  {
   "cell_type": "code",
   "execution_count": 2,
   "metadata": {},
   "outputs": [],
   "source": [
    "df = pd.read_csv(\"anime_data.csv\")\n",
    "df.reset_index(inplace=True)\n",
    "url_df = pd.read_csv(\"anime_url.csv\")\n",
    "url_df.reset_index(inplace=True)\n",
    "pd.set_option(\"display.max_columns\", None)\n",
    "df = url_df.merge(df, on='index',how='left')\n",
    "df.drop(['index'],axis=1,inplace=True)\n",
    "\n",
    "pd.set_option(\"display.max_columns\", None)"
   ]
  },
  {
   "cell_type": "code",
   "execution_count": 3,
   "metadata": {},
   "outputs": [
    {
     "data": {
      "text/html": [
       "<div>\n",
       "<style scoped>\n",
       "    .dataframe tbody tr th:only-of-type {\n",
       "        vertical-align: middle;\n",
       "    }\n",
       "\n",
       "    .dataframe tbody tr th {\n",
       "        vertical-align: top;\n",
       "    }\n",
       "\n",
       "    .dataframe thead th {\n",
       "        text-align: right;\n",
       "    }\n",
       "</style>\n",
       "<table border=\"1\" class=\"dataframe\">\n",
       "  <thead>\n",
       "    <tr style=\"text-align: right;\">\n",
       "      <th></th>\n",
       "      <th>anime_url</th>\n",
       "      <th>anime_poster</th>\n",
       "      <th>anime_title</th>\n",
       "      <th>anime_overview</th>\n",
       "      <th>anime_mal_score</th>\n",
       "      <th>anime_studio</th>\n",
       "      <th>anime_producer</th>\n",
       "      <th>anime_genres</th>\n",
       "    </tr>\n",
       "  </thead>\n",
       "  <tbody>\n",
       "    <tr>\n",
       "      <th>0</th>\n",
       "      <td>https://aniwatchtv.to/bungaku-shoujo-kyou-no-o...</td>\n",
       "      <td>https://img.flawlessfiles.com/_r/300x400/100/5...</td>\n",
       "      <td>\"Bungaku Shoujo\" Kyou no Oyatsu: Hatsukoi</td>\n",
       "      <td>\\n                                        Shor...</td>\n",
       "      <td>6.92</td>\n",
       "      <td>Production I.G</td>\n",
       "      <td>['Lantis', 'Pony Canyon', 'Enterbrain', 'Kadok...</td>\n",
       "      <td>['Comedy', 'Fantasy', 'School']</td>\n",
       "    </tr>\n",
       "    <tr>\n",
       "      <th>1</th>\n",
       "      <td>https://aniwatchtv.to/bungaku-shoujo-memoire-2108</td>\n",
       "      <td>https://img.flawlessfiles.com/_r/300x400/100/e...</td>\n",
       "      <td>\"Bungaku Shoujo\" Memoire</td>\n",
       "      <td>\\n                                        Epis...</td>\n",
       "      <td>7.35</td>\n",
       "      <td>Production I.G</td>\n",
       "      <td>['Lantis', 'Pony Canyon', 'Enterbrain', 'Kadok...</td>\n",
       "      <td>['Drama', 'Romance', 'School']</td>\n",
       "    </tr>\n",
       "    <tr>\n",
       "      <th>2</th>\n",
       "      <td>https://aniwatchtv.to/bungaku-shoujo-movie-1802</td>\n",
       "      <td>https://img.flawlessfiles.com/_r/300x400/100/5...</td>\n",
       "      <td>\"Bungaku Shoujo\" Movie</td>\n",
       "      <td>\\n                                        The ...</td>\n",
       "      <td>7.43</td>\n",
       "      <td>Production I.G</td>\n",
       "      <td>['Lantis', 'Pony Canyon', 'Enterbrain', 'Kadok...</td>\n",
       "      <td>['Mystery', 'Drama', 'Romance', 'School']</td>\n",
       "    </tr>\n",
       "    <tr>\n",
       "      <th>3</th>\n",
       "      <td>https://aniwatchtv.to/my-star-18330</td>\n",
       "      <td>https://img.flawlessfiles.com/_r/300x400/100/9...</td>\n",
       "      <td>My Star</td>\n",
       "      <td>\\n                                        In t...</td>\n",
       "      <td>9.33</td>\n",
       "      <td>Doga Kobo</td>\n",
       "      <td>['Kadokawa', 'Shueisha']</td>\n",
       "      <td>['Drama', 'Music', 'Supernatural', 'Seinen']</td>\n",
       "    </tr>\n",
       "    <tr>\n",
       "      <th>4</th>\n",
       "      <td>https://aniwatchtv.to/hackgu-returner-4688</td>\n",
       "      <td>https://img.flawlessfiles.com/_r/300x400/100/e...</td>\n",
       "      <td>.hack//G.U. Returner</td>\n",
       "      <td>\\n                                        The ...</td>\n",
       "      <td>6.73</td>\n",
       "      <td>Bee Train</td>\n",
       "      <td>['Bandai Visual', 'CyberConnect2', 'Bee Train']</td>\n",
       "      <td>['Adventure', 'Drama', 'Fantasy', 'Game', 'Mag...</td>\n",
       "    </tr>\n",
       "    <tr>\n",
       "      <th>...</th>\n",
       "      <td>...</td>\n",
       "      <td>...</td>\n",
       "      <td>...</td>\n",
       "      <td>...</td>\n",
       "      <td>...</td>\n",
       "      <td>...</td>\n",
       "      <td>...</td>\n",
       "      <td>...</td>\n",
       "    </tr>\n",
       "    <tr>\n",
       "      <th>6697</th>\n",
       "      <td>https://aniwatchtv.to/yobarete-tobidete-akubi-...</td>\n",
       "      <td>https://img.flawlessfiles.com/_r/300x400/100/2...</td>\n",
       "      <td>[RAW] Yobarete Tobidete Akubi-chan</td>\n",
       "      <td>\\n                                        Koro...</td>\n",
       "      <td>5.94</td>\n",
       "      <td>Tatsunoko Production</td>\n",
       "      <td>['Tatsunoko Production']</td>\n",
       "      <td>['Comedy', 'Fantasy', 'Kids']</td>\n",
       "    </tr>\n",
       "    <tr>\n",
       "      <th>6698</th>\n",
       "      <td>https://aniwatchtv.to/youkai-ningen-bem-7922</td>\n",
       "      <td>https://img.flawlessfiles.com/_r/300x400/100/3...</td>\n",
       "      <td>[RAW] Youkai Ningen Bem</td>\n",
       "      <td>\\n                                        Thre...</td>\n",
       "      <td>6.02</td>\n",
       "      <td>Dai-Ichi Douga</td>\n",
       "      <td>['Dai-Ichi Douga']</td>\n",
       "      <td>['Demons', 'Horror']</td>\n",
       "    </tr>\n",
       "    <tr>\n",
       "      <th>6699</th>\n",
       "      <td>https://aniwatchtv.to/raw-zoids-wild-zero-12750</td>\n",
       "      <td>https://img.flawlessfiles.com/_r/300x400/100/2...</td>\n",
       "      <td>[RAW] Zoids Wild Zero</td>\n",
       "      <td>\\n                                        The ...</td>\n",
       "      <td>?</td>\n",
       "      <td>OLM</td>\n",
       "      <td>['OLM']</td>\n",
       "      <td>['Action', 'Adventure', 'Comedy', 'Sci-Fi']</td>\n",
       "    </tr>\n",
       "    <tr>\n",
       "      <th>6700</th>\n",
       "      <td>https://aniwatchtv.to/summer-8877</td>\n",
       "      <td>https://img.flawlessfiles.com/_r/300x400/100/5...</td>\n",
       "      <td>_Summer</td>\n",
       "      <td>\\n                                        “Is ...</td>\n",
       "      <td>5.7</td>\n",
       "      <td>Rikuentai</td>\n",
       "      <td>['Rikuentai']</td>\n",
       "      <td>['Drama', 'Romance', 'Harem']</td>\n",
       "    </tr>\n",
       "    <tr>\n",
       "      <th>6701</th>\n",
       "      <td>https://aniwatchtv.to/summer-specials-9645</td>\n",
       "      <td>https://img.flawlessfiles.com/_r/300x400/100/a...</td>\n",
       "      <td>_Summer Specials</td>\n",
       "      <td>\\n                                        Shor...</td>\n",
       "      <td>5.4</td>\n",
       "      <td>Rikuentai</td>\n",
       "      <td>['Rikuentai']</td>\n",
       "      <td>['Harem']</td>\n",
       "    </tr>\n",
       "  </tbody>\n",
       "</table>\n",
       "<p>6702 rows × 8 columns</p>\n",
       "</div>"
      ],
      "text/plain": [
       "                                              anime_url  \\\n",
       "0     https://aniwatchtv.to/bungaku-shoujo-kyou-no-o...   \n",
       "1     https://aniwatchtv.to/bungaku-shoujo-memoire-2108   \n",
       "2       https://aniwatchtv.to/bungaku-shoujo-movie-1802   \n",
       "3                   https://aniwatchtv.to/my-star-18330   \n",
       "4            https://aniwatchtv.to/hackgu-returner-4688   \n",
       "...                                                 ...   \n",
       "6697  https://aniwatchtv.to/yobarete-tobidete-akubi-...   \n",
       "6698       https://aniwatchtv.to/youkai-ningen-bem-7922   \n",
       "6699    https://aniwatchtv.to/raw-zoids-wild-zero-12750   \n",
       "6700                  https://aniwatchtv.to/summer-8877   \n",
       "6701         https://aniwatchtv.to/summer-specials-9645   \n",
       "\n",
       "                                           anime_poster  \\\n",
       "0     https://img.flawlessfiles.com/_r/300x400/100/5...   \n",
       "1     https://img.flawlessfiles.com/_r/300x400/100/e...   \n",
       "2     https://img.flawlessfiles.com/_r/300x400/100/5...   \n",
       "3     https://img.flawlessfiles.com/_r/300x400/100/9...   \n",
       "4     https://img.flawlessfiles.com/_r/300x400/100/e...   \n",
       "...                                                 ...   \n",
       "6697  https://img.flawlessfiles.com/_r/300x400/100/2...   \n",
       "6698  https://img.flawlessfiles.com/_r/300x400/100/3...   \n",
       "6699  https://img.flawlessfiles.com/_r/300x400/100/2...   \n",
       "6700  https://img.flawlessfiles.com/_r/300x400/100/5...   \n",
       "6701  https://img.flawlessfiles.com/_r/300x400/100/a...   \n",
       "\n",
       "                                    anime_title  \\\n",
       "0     \"Bungaku Shoujo\" Kyou no Oyatsu: Hatsukoi   \n",
       "1                      \"Bungaku Shoujo\" Memoire   \n",
       "2                        \"Bungaku Shoujo\" Movie   \n",
       "3                                       My Star   \n",
       "4                          .hack//G.U. Returner   \n",
       "...                                         ...   \n",
       "6697         [RAW] Yobarete Tobidete Akubi-chan   \n",
       "6698                    [RAW] Youkai Ningen Bem   \n",
       "6699                      [RAW] Zoids Wild Zero   \n",
       "6700                                    _Summer   \n",
       "6701                           _Summer Specials   \n",
       "\n",
       "                                         anime_overview anime_mal_score  \\\n",
       "0     \\n                                        Shor...            6.92   \n",
       "1     \\n                                        Epis...            7.35   \n",
       "2     \\n                                        The ...            7.43   \n",
       "3     \\n                                        In t...            9.33   \n",
       "4     \\n                                        The ...            6.73   \n",
       "...                                                 ...             ...   \n",
       "6697  \\n                                        Koro...            5.94   \n",
       "6698  \\n                                        Thre...            6.02   \n",
       "6699  \\n                                        The ...               ?   \n",
       "6700  \\n                                        “Is ...             5.7   \n",
       "6701  \\n                                        Shor...             5.4   \n",
       "\n",
       "              anime_studio                                     anime_producer  \\\n",
       "0           Production I.G  ['Lantis', 'Pony Canyon', 'Enterbrain', 'Kadok...   \n",
       "1           Production I.G  ['Lantis', 'Pony Canyon', 'Enterbrain', 'Kadok...   \n",
       "2           Production I.G  ['Lantis', 'Pony Canyon', 'Enterbrain', 'Kadok...   \n",
       "3                Doga Kobo                           ['Kadokawa', 'Shueisha']   \n",
       "4                Bee Train    ['Bandai Visual', 'CyberConnect2', 'Bee Train']   \n",
       "...                    ...                                                ...   \n",
       "6697  Tatsunoko Production                           ['Tatsunoko Production']   \n",
       "6698        Dai-Ichi Douga                                 ['Dai-Ichi Douga']   \n",
       "6699                   OLM                                            ['OLM']   \n",
       "6700             Rikuentai                                      ['Rikuentai']   \n",
       "6701             Rikuentai                                      ['Rikuentai']   \n",
       "\n",
       "                                           anime_genres  \n",
       "0                       ['Comedy', 'Fantasy', 'School']  \n",
       "1                        ['Drama', 'Romance', 'School']  \n",
       "2             ['Mystery', 'Drama', 'Romance', 'School']  \n",
       "3          ['Drama', 'Music', 'Supernatural', 'Seinen']  \n",
       "4     ['Adventure', 'Drama', 'Fantasy', 'Game', 'Mag...  \n",
       "...                                                 ...  \n",
       "6697                      ['Comedy', 'Fantasy', 'Kids']  \n",
       "6698                               ['Demons', 'Horror']  \n",
       "6699        ['Action', 'Adventure', 'Comedy', 'Sci-Fi']  \n",
       "6700                      ['Drama', 'Romance', 'Harem']  \n",
       "6701                                          ['Harem']  \n",
       "\n",
       "[6702 rows x 8 columns]"
      ]
     },
     "execution_count": 3,
     "metadata": {},
     "output_type": "execute_result"
    }
   ],
   "source": [
    "df"
   ]
  },
  {
   "cell_type": "code",
   "execution_count": 4,
   "metadata": {},
   "outputs": [],
   "source": [
    "df.anime_producer = df.anime_producer.replace(\"['NA']\", df.anime_producer.mode()[0])\n",
    "df.anime_studio = df.anime_studio.replace(np.nan, df.anime_studio.mode()[0])\n",
    "df.anime_mal_score = pd.to_numeric(df.anime_mal_score, errors=\"coerce\")\n",
    "df.anime_mal_score = df.anime_mal_score.replace(np.nan, df.anime_mal_score.median())"
   ]
  },
  {
   "cell_type": "code",
   "execution_count": 5,
   "metadata": {},
   "outputs": [
    {
     "data": {
      "text/plain": [
       "anime_url          0\n",
       "anime_poster       0\n",
       "anime_title        0\n",
       "anime_overview     0\n",
       "anime_mal_score    0\n",
       "anime_studio       0\n",
       "anime_producer     0\n",
       "anime_genres       0\n",
       "dtype: int64"
      ]
     },
     "execution_count": 5,
     "metadata": {},
     "output_type": "execute_result"
    }
   ],
   "source": [
    "df.isna().sum()"
   ]
  },
  {
   "cell_type": "code",
   "execution_count": 6,
   "metadata": {},
   "outputs": [
    {
     "data": {
      "image/png": "[encoded data removed]",
      "text/plain": [
       "<Figure size 2500x1000 with 2 Axes>"
      ]
     },
     "metadata": {},
     "output_type": "display_data"
    }
   ],
   "source": [
    "import missingno as msno\n",
    "\n",
    "msno.matrix(df);"
   ]
  },
  {
   "cell_type": "code",
   "execution_count": 7,
   "metadata": {},
   "outputs": [],
   "source": [
    "df.dropna(inplace=True)\n",
    "df.drop_duplicates(inplace=True)"
   ]
  },
  {
   "cell_type": "code",
   "execution_count": 8,
   "metadata": {},
   "outputs": [],
   "source": [
    "df.anime_genres = df.anime_genres.apply(le)\n",
    "df.anime_producer = df.anime_producer.apply(le)\n",
    "df.anime_genres = df.anime_genres.apply(lambda x: [i.replace(\" \", \"\") for i in x])\n",
    "df.anime_studio = df.anime_studio.apply(lambda x: x.replace(\" \", \"\"))\n",
    "df.anime_studio = df.anime_studio.apply(lambda x: x.split())"
   ]
  },
  {
   "attachments": {},
   "cell_type": "markdown",
   "metadata": {},
   "source": [
    "# Text Preprocessing"
   ]
  },
  {
   "cell_type": "code",
   "execution_count": 9,
   "metadata": {},
   "outputs": [],
   "source": [
    "df['anime_overview'] =  df['anime_overview'].apply(lambda x: x.split(r\"[Written by MAL Rewrite]\")[0])\n",
    "\n",
    "# Taking Only Words\n",
    "df['anime_overview'] = df['anime_overview'].apply(lambda x: \" \".join(re.findall(r'[a-zA-Z]+', x)).lower())\n",
    "\n",
    "# Removing all s and t from the overview which are not in the form of words\n",
    "\n",
    "df['anime_overview'] = df['anime_overview'].apply(lambda x: re.sub(r'\\bs\\b|\\bt\\b','',x))\n"
   ]
  },
  {
   "cell_type": "code",
   "execution_count": 10,
   "metadata": {},
   "outputs": [],
   "source": [
    "# Dropping the index column and resetting the index to new values\n",
    "df.reset_index(drop=True, inplace=True)\n",
    "df.reset_index(inplace=True)"
   ]
  },
  {
   "cell_type": "code",
   "execution_count": 11,
   "metadata": {},
   "outputs": [],
   "source": [
    "# Changing the column names\n",
    "df.rename(\n",
    "    columns={\n",
    "        \"index\": \"anime_id\",\n",
    "        \"anime_urls\": \"urls\",\n",
    "        \"anime_overview\": \"overview\",\n",
    "        \"anime_genres\": \"genres\",\n",
    "        \"anime_producer\": \"producer\",\n",
    "        \"anime_studio\": \"studio\",\n",
    "        \"anime_mal_score\": \"score\",\n",
    "        \"anime_poster\": \"poster\",\n",
    "        \"anime_title\": \"title\",\n",
    "    },\n",
    "    inplace=True,\n",
    ")"
   ]
  },
  {
   "cell_type": "code",
   "execution_count": 12,
   "metadata": {},
   "outputs": [],
   "source": [
    "# Making tags as a combination of overview, genres and studio\n",
    "df.overview = df.overview.astype(str)\n",
    "df.overview = df.overview.apply(lambda x: x.split())\n",
    "\n",
    "df['tags'] = df['overview'] + df['genres'] + df['studio']"
   ]
  },
  {
   "cell_type": "code",
   "execution_count": 13,
   "metadata": {},
   "outputs": [],
   "source": [
    "df['tags'] = df['tags'].apply(lambda x:[i.lower() for i in x])\n",
    "df['tags'] = df['tags'].apply(lambda x: ' '.join(x))"
   ]
  },
  {
   "cell_type": "code",
   "execution_count": 14,
   "metadata": {},
   "outputs": [],
   "source": [
    "# Lemmatizing the tags\n",
    "\n",
    "def stemmer(text):\n",
    "    doc = nlp(text)\n",
    "    doc = [token.lemma_ for token in doc if token.lemma_ not in stopwords]\n",
    "    return ' '.join(doc)\n",
    "\n",
    "df['tags'] = df['tags'].apply(stemmer)"
   ]
  },
  {
   "cell_type": "code",
   "execution_count": 15,
   "metadata": {},
   "outputs": [
    {
     "name": "stdout",
     "output_type": "stream",
     "text": [
      "(6702, 10000)\n"
     ]
    }
   ],
   "source": [
    "# CountVectorizer to convert tags into matrix\n",
    "\n",
    "vectorizer = TfidfVectorizer(analyzer='word',max_features=10000,ngram_range=(1,3),norm='l2')\n",
    "vector = vectorizer.fit_transform(df['tags']).toarray()\n",
    "print(vector.shape)"
   ]
  },
  {
   "cell_type": "code",
   "execution_count": 16,
   "metadata": {},
   "outputs": [
    {
     "data": {
      "text/plain": [
       "array([1.        , 0.12488678, 0.02978093, ..., 0.00206694, 0.0142427 ,\n",
       "       0.05006359])"
      ]
     },
     "execution_count": 16,
     "metadata": {},
     "output_type": "execute_result"
    }
   ],
   "source": [
    "# Cosine similarity\n",
    "\n",
    "similarity = cosine_similarity(vector)\n",
    "similarity[0]"
   ]
  },
  {
   "cell_type": "code",
   "execution_count": 17,
   "metadata": {},
   "outputs": [
    {
     "name": "stdout",
     "output_type": "stream",
     "text": [
      "Naruto: Shippuden\n",
      "Naruto: Shippuuden Movie 4 - The Lost Tower\n",
      "Boruto: Naruto Next Generations\n",
      "Naruto: Shippuuden Movie 6: Road to Ninja\n",
      "Boruto: Naruto the Movie\n",
      "Naruto Shippuuden Movie 3: Inheritors of Will of Fire\n",
      "Naruto: Shippuuden Movie 5 - Blood Prison\n",
      "Naruto: Shippuden the Movie 2 -Bonds-\n",
      "Naruto OVA7: Chunin Exam on Fire! and Naruto vs. Konohamaru!\n",
      "Naruto OVA2: The Lost Story - Mission: Protect the Waterfall Village\n"
     ]
    }
   ],
   "source": [
    "def recommend(anime):\n",
    "    index = df[df['title'] == anime].index[0]\n",
    "    distances = sorted(list(enumerate(similarity[index])), reverse=True, key=lambda x: x[1])[1:11]\n",
    "    for i in distances:\n",
    "        print(df.iloc[i[0]].title)\n",
    "        pass\n",
    "    \n",
    "recommend('Naruto')"
   ]
  },
  {
   "cell_type": "code",
   "execution_count": 18,
   "metadata": {},
   "outputs": [],
   "source": [
    "df.to_csv(\"rec_data.csv\", index=False)\n",
    "pickle.dump(similarity, open(r\"D:\\Github\\Anime-Recommender\\similarity.pkl\", \"wb\"))"
   ]
  }
 ],
 "metadata": {
  "kernelspec": {
   "display_name": "Scrape",
   "language": "python",
   "name": "python3"
  },
  "language_info": {
   "codemirror_mode": {
    "name": "ipython",
    "version": 3
   },
   "file_extension": ".py",
   "mimetype": "text/x-python",
   "name": "python",
   "nbconvert_exporter": "python",
   "pygments_lexer": "ipython3",
   "version": "3.10.11"
  },
  "orig_nbformat": 4
 },
 "nbformat": 4,
 "nbformat_minor": 2
}
